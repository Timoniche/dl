{
 "cells": [
  {
   "cell_type": "markdown",
   "metadata": {
    "collapsed": false
   },
   "source": [
    "## Стихи Пушкина"
   ]
  },
  {
   "cell_type": "code",
   "execution_count": 8,
   "metadata": {
    "ExecuteTime": {
     "end_time": "2024-01-01T15:34:37.124302Z",
     "start_time": "2024-01-01T15:34:35.910527Z"
    },
    "colab": {
     "base_uri": "https://localhost:8080/"
    },
    "id": "67jZcl90jH76",
    "outputId": "0f9b1706-d8fa-48ac-c53c-d08fafe7a2ee"
   },
   "outputs": [
    {
     "name": "stdout",
     "output_type": "stream",
     "text": [
      "Requirement already satisfied: datasets in /Users/timoniche/PycharmProjects/dl/venv/lib/python3.9/site-packages (2.16.1)\r\n",
      "Requirement already satisfied: filelock in /Users/timoniche/PycharmProjects/dl/venv/lib/python3.9/site-packages (from datasets) (3.13.1)\r\n",
      "Requirement already satisfied: packaging in /Users/timoniche/PycharmProjects/dl/venv/lib/python3.9/site-packages (from datasets) (23.2)\r\n",
      "Requirement already satisfied: multiprocess in /Users/timoniche/PycharmProjects/dl/venv/lib/python3.9/site-packages (from datasets) (0.70.15)\r\n",
      "Requirement already satisfied: aiohttp in /Users/timoniche/PycharmProjects/dl/venv/lib/python3.9/site-packages (from datasets) (3.9.0)\r\n",
      "Requirement already satisfied: huggingface-hub>=0.19.4 in /Users/timoniche/PycharmProjects/dl/venv/lib/python3.9/site-packages (from datasets) (0.20.1)\r\n",
      "Requirement already satisfied: pyarrow>=8.0.0 in /Users/timoniche/PycharmProjects/dl/venv/lib/python3.9/site-packages (from datasets) (14.0.2)\r\n",
      "Requirement already satisfied: fsspec[http]<=2023.10.0,>=2023.1.0 in /Users/timoniche/PycharmProjects/dl/venv/lib/python3.9/site-packages (from datasets) (2023.10.0)\r\n",
      "Requirement already satisfied: pyyaml>=5.1 in /Users/timoniche/PycharmProjects/dl/venv/lib/python3.9/site-packages (from datasets) (6.0.1)\r\n",
      "Requirement already satisfied: dill<0.3.8,>=0.3.0 in /Users/timoniche/PycharmProjects/dl/venv/lib/python3.9/site-packages (from datasets) (0.3.7)\r\n",
      "Requirement already satisfied: pyarrow-hotfix in /Users/timoniche/PycharmProjects/dl/venv/lib/python3.9/site-packages (from datasets) (0.6)\r\n",
      "Requirement already satisfied: pandas in /Users/timoniche/PycharmProjects/dl/venv/lib/python3.9/site-packages (from datasets) (2.1.3)\r\n",
      "Requirement already satisfied: numpy>=1.17 in /Users/timoniche/PycharmProjects/dl/venv/lib/python3.9/site-packages (from datasets) (1.26.2)\r\n",
      "Requirement already satisfied: tqdm>=4.62.1 in /Users/timoniche/PycharmProjects/dl/venv/lib/python3.9/site-packages (from datasets) (4.66.1)\r\n",
      "Requirement already satisfied: requests>=2.19.0 in /Users/timoniche/PycharmProjects/dl/venv/lib/python3.9/site-packages (from datasets) (2.31.0)\r\n",
      "Requirement already satisfied: xxhash in /Users/timoniche/PycharmProjects/dl/venv/lib/python3.9/site-packages (from datasets) (3.4.1)\r\n",
      "Requirement already satisfied: multidict<7.0,>=4.5 in /Users/timoniche/PycharmProjects/dl/venv/lib/python3.9/site-packages (from aiohttp->datasets) (6.0.4)\r\n",
      "Requirement already satisfied: aiosignal>=1.1.2 in /Users/timoniche/PycharmProjects/dl/venv/lib/python3.9/site-packages (from aiohttp->datasets) (1.3.1)\r\n",
      "Requirement already satisfied: async-timeout<5.0,>=4.0 in /Users/timoniche/PycharmProjects/dl/venv/lib/python3.9/site-packages (from aiohttp->datasets) (4.0.3)\r\n",
      "Requirement already satisfied: attrs>=17.3.0 in /Users/timoniche/PycharmProjects/dl/venv/lib/python3.9/site-packages (from aiohttp->datasets) (23.1.0)\r\n",
      "Requirement already satisfied: frozenlist>=1.1.1 in /Users/timoniche/PycharmProjects/dl/venv/lib/python3.9/site-packages (from aiohttp->datasets) (1.4.0)\r\n",
      "Requirement already satisfied: yarl<2.0,>=1.0 in /Users/timoniche/PycharmProjects/dl/venv/lib/python3.9/site-packages (from aiohttp->datasets) (1.9.2)\r\n",
      "Requirement already satisfied: typing-extensions>=3.7.4.3 in /Users/timoniche/PycharmProjects/dl/venv/lib/python3.9/site-packages (from huggingface-hub>=0.19.4->datasets) (4.8.0)\r\n",
      "Requirement already satisfied: urllib3<3,>=1.21.1 in /Users/timoniche/PycharmProjects/dl/venv/lib/python3.9/site-packages (from requests>=2.19.0->datasets) (2.1.0)\r\n",
      "Requirement already satisfied: idna<4,>=2.5 in /Users/timoniche/PycharmProjects/dl/venv/lib/python3.9/site-packages (from requests>=2.19.0->datasets) (3.4)\r\n",
      "Requirement already satisfied: certifi>=2017.4.17 in /Users/timoniche/PycharmProjects/dl/venv/lib/python3.9/site-packages (from requests>=2.19.0->datasets) (2023.11.17)\r\n",
      "Requirement already satisfied: charset-normalizer<4,>=2 in /Users/timoniche/PycharmProjects/dl/venv/lib/python3.9/site-packages (from requests>=2.19.0->datasets) (3.3.2)\r\n",
      "Requirement already satisfied: tzdata>=2022.1 in /Users/timoniche/PycharmProjects/dl/venv/lib/python3.9/site-packages (from pandas->datasets) (2023.3)\r\n",
      "Requirement already satisfied: pytz>=2020.1 in /Users/timoniche/PycharmProjects/dl/venv/lib/python3.9/site-packages (from pandas->datasets) (2023.3.post1)\r\n",
      "Requirement already satisfied: python-dateutil>=2.8.2 in /Users/timoniche/PycharmProjects/dl/venv/lib/python3.9/site-packages (from pandas->datasets) (2.8.2)\r\n",
      "Requirement already satisfied: six>=1.5 in /Users/timoniche/PycharmProjects/dl/venv/lib/python3.9/site-packages (from python-dateutil>=2.8.2->pandas->datasets) (1.16.0)\r\n",
      "\r\n",
      "\u001B[1m[\u001B[0m\u001B[34;49mnotice\u001B[0m\u001B[1;39;49m]\u001B[0m\u001B[39;49m A new release of pip available: \u001B[0m\u001B[31;49m22.3.1\u001B[0m\u001B[39;49m -> \u001B[0m\u001B[32;49m23.3.2\u001B[0m\r\n",
      "\u001B[1m[\u001B[0m\u001B[34;49mnotice\u001B[0m\u001B[1;39;49m]\u001B[0m\u001B[39;49m To update, run: \u001B[0m\u001B[32;49mpip install --upgrade pip\u001B[0m\r\n"
     ]
    }
   ],
   "source": [
    "!pip install datasets"
   ]
  },
  {
   "cell_type": "code",
   "execution_count": 135,
   "metadata": {
    "id": "Jryu4j5-jCeJ",
    "ExecuteTime": {
     "end_time": "2024-01-02T21:58:39.763658Z",
     "start_time": "2024-01-02T21:58:39.750673Z"
    }
   },
   "outputs": [],
   "source": [
    "import torch\n",
    "\n",
    "from torch.nn import functional as F"
   ]
  },
  {
   "cell_type": "code",
   "execution_count": 136,
   "metadata": {
    "collapsed": false,
    "ExecuteTime": {
     "end_time": "2024-01-02T21:58:45.875813Z",
     "start_time": "2024-01-02T21:58:40.297845Z"
    }
   },
   "outputs": [
    {
     "name": "stderr",
     "output_type": "stream",
     "text": [
      "/Users/timoniche/PycharmProjects/dl/venv/lib/python3.9/site-packages/urllib3/__init__.py:34: NotOpenSSLWarning: urllib3 v2 only supports OpenSSL 1.1.1+, currently the 'ssl' module is compiled with 'LibreSSL 2.8.3'. See: https://github.com/urllib3/urllib3/issues/3020\n",
      "  warnings.warn(\n"
     ]
    }
   ],
   "source": [
    "from datasets import load_dataset\n",
    "\n",
    "raw_datasets = load_dataset(\"abobster/pushkin_new\")\n",
    "\n",
    "with open('input.txt', 'w', encoding='utf-8') as f:\n",
    "    f.write('\\n'.join(raw_datasets['train']['text']))"
   ]
  },
  {
   "cell_type": "code",
   "execution_count": 137,
   "metadata": {
    "collapsed": false,
    "ExecuteTime": {
     "end_time": "2024-01-02T21:58:54.248534Z",
     "start_time": "2024-01-02T21:58:54.229436Z"
    }
   },
   "outputs": [],
   "source": [
    "# !cat input.txt"
   ]
  },
  {
   "cell_type": "code",
   "execution_count": 138,
   "metadata": {
    "collapsed": false,
    "ExecuteTime": {
     "end_time": "2024-01-02T21:58:57.360406Z",
     "start_time": "2024-01-02T21:58:57.356448Z"
    }
   },
   "outputs": [
    {
     "name": "stdout",
     "output_type": "stream",
     "text": [
      "device mps\n"
     ]
    }
   ],
   "source": [
    "device = 'cuda' if torch.cuda.is_available() else 'mps' if torch.backends.mps.is_available() else 'cpu'\n",
    "print('device', device)"
   ]
  },
  {
   "cell_type": "code",
   "execution_count": 151,
   "metadata": {
    "collapsed": false,
    "ExecuteTime": {
     "end_time": "2024-01-02T22:11:04.469145Z",
     "start_time": "2024-01-02T22:11:04.462257Z"
    }
   },
   "outputs": [],
   "source": [
    "batch_size = 64  # independent sequences processed in parallel\n",
    "block_size = 256  # maximum context length for predictions\n",
    "\n",
    "learning_rate = 3e-4\n",
    "\n",
    "n_embd = 384\n",
    "dropout = 0.2"
   ]
  },
  {
   "cell_type": "code",
   "execution_count": 141,
   "metadata": {
    "id": "Ow54urdHkmVE",
    "ExecuteTime": {
     "end_time": "2024-01-02T21:59:33.118475Z",
     "start_time": "2024-01-02T21:59:33.034013Z"
    }
   },
   "outputs": [
    {
     "name": "stdout",
     "output_type": "stream",
     "text": [
      "vocab_size 131\n"
     ]
    }
   ],
   "source": [
    "torch.manual_seed(1337)\n",
    "\n",
    "with open('input.txt', 'r', encoding='utf-8') as f:\n",
    "    text = f.read()\n",
    "\n",
    "chars = sorted(list(set(text)))\n",
    "vocab_size = len(chars)\n",
    "print('vocab_size', vocab_size)\n",
    "stoi = {ch: i for i, ch in enumerate(chars)}\n",
    "itos = {i: ch for i, ch in enumerate(chars)}\n",
    "encode = lambda s: [stoi[c] for c in s]\n",
    "decode = lambda l: ''.join([itos[i] for i in l])\n",
    "\n",
    "data = torch.tensor(encode(text), dtype=torch.long)\n",
    "n = int(0.9 * len(data))\n",
    "train_data = data[:n]\n",
    "val_data = data[n:]"
   ]
  },
  {
   "cell_type": "markdown",
   "metadata": {
    "collapsed": false
   },
   "source": [
    "## Модель"
   ]
  },
  {
   "cell_type": "code",
   "execution_count": 142,
   "outputs": [],
   "source": [
    "import torch.nn as nn\n",
    "\n",
    "\n",
    "class ModelRNN(nn.Module):\n",
    "    def __init__(\n",
    "            self,\n",
    "            vocab_size,\n",
    "            hidden_size,\n",
    "            dropout,\n",
    "            num_layers=1,\n",
    "    ):\n",
    "        super(ModelRNN, self).__init__()\n",
    "        self.hidden_size = hidden_size\n",
    "        self.num_layers = num_layers\n",
    "\n",
    "        self.embedding = nn.Embedding(vocab_size, hidden_size)\n",
    "        self.lstm = nn.LSTM(hidden_size, hidden_size, num_layers=num_layers)\n",
    "        self.dropout = nn.Dropout(dropout)\n",
    "        self.fc = nn.Linear(hidden_size, vocab_size)\n",
    "\n",
    "    def forward(self, x, hidden=None):\n",
    "        x = self.embedding(x)\n",
    "        output, hidden = self.lstm(x, hidden)\n",
    "        output = self.dropout(output)\n",
    "        output = self.fc(output)\n",
    "\n",
    "        return output, hidden\n"
   ],
   "metadata": {
    "collapsed": false,
    "ExecuteTime": {
     "end_time": "2024-01-02T21:59:50.509694Z",
     "start_time": "2024-01-02T21:59:50.500227Z"
    }
   }
  },
  {
   "cell_type": "code",
   "execution_count": 143,
   "metadata": {
    "collapsed": false,
    "ExecuteTime": {
     "end_time": "2024-01-02T22:00:01.993840Z",
     "start_time": "2024-01-02T22:00:01.959185Z"
    }
   },
   "outputs": [
    {
     "name": "stdout",
     "output_type": "stream",
     "text": [
      "1.283459 M parameters\n"
     ]
    }
   ],
   "source": [
    "model = ModelRNN(\n",
    "    vocab_size=vocab_size,\n",
    "    hidden_size=n_embd,\n",
    "    dropout=dropout,\n",
    ")\n",
    "m = model.to(device)\n",
    "\n",
    "print(sum(p.numel() for p in m.parameters()) / 1e6, 'M parameters')"
   ]
  },
  {
   "cell_type": "code",
   "execution_count": 152,
   "metadata": {
    "colab": {
     "base_uri": "https://localhost:8080/",
     "height": 669,
     "referenced_widgets": [
      "f9fd51d270004bebb94c6cd66877dc24",
      "2b08641b23af4472b5ff87cb8aa59b48",
      "c6779a75a1e34cbd84ab702e60184bc4",
      "c803440d26d344a2b41befd6d3064336",
      "df340e251886475c998dcba8469cffa3",
      "6dc0525e3046460f936bed927133abc3",
      "e62152d59a1842ec8c43a6a4a96b6d0d",
      "912584110a2f4e8391915053859e9d69",
      "4bbddf493cd54204bbf46c2458ef93cb",
      "a852e8b97a9d4da9872cdbd7db71cc30",
      "c693e2d718e541a88767ee6582befa22",
      "4467b7f82adf4834878a5c94d9b720f3",
      "fb0a12fe4aa540058b4d34cc669a1a9f",
      "7dd0c1f9eacb4497845135cb334f0de4",
      "fd2631fec99a45528d144bcee330216c",
      "2ac14c2fc295432da77f1fd7357bd2f9",
      "d0e513c8b48648f387d6b1bb1d4632ff",
      "48fbd169387b4a91956a63b2e28685fb",
      "e459bad3923b47b794187ad301e29463",
      "f730bef7ddb24ab2b97d98c0935fbb3c",
      "f9071dc212b6491ab8c92ae0d5d242b0",
      "7a3b245ec19b427984612f8c79cc722f",
      "c26f7f8711a244ee8898958d5979c39c",
      "f67219a7705248d0a781c8eb933e11d2",
      "ad22fa7be9254a6798847ac6a9552afa",
      "8d0922c12390456e9dc9bb7cc4a2e5a8",
      "d1b4607db5334e05990a21deb0d55ffc",
      "3ac44ff76e724698b911b8a02da1033d",
      "6b4d54d4fd0b457eae8990336fa36afc",
      "efc24dade3254a85b8b2a5ff98370750",
      "8b039eec9c8b4ff390a31b88d829b304",
      "90c3e2ab3575418ba8c2391596a15503",
      "22f14704aa884b39866499441b346b85",
      "eed91bb5bfb3429492312c2ed49c1ae3",
      "896baa0a246649ad97ced4aa66bd68ec",
      "874781c485334c228e26136fd787ad9c",
      "6b0042b1779a4116882ca02ed36c0823",
      "a902fb4679a84b868fa8465f26b41ffc",
      "74f13c3e3a214ec69c375fd97c944830",
      "20a820c0a80d48c283f49cfeccf4082d",
      "d05317a6a8d64cd7ad71af9a429bc713",
      "22aaac62cc0e495789863a2eaeb9dc1a",
      "f36cfdc5c1894d4cabcb93ce2cf6186b",
      "76aaee0377b2414592b3d489e67d853a"
     ]
    },
    "id": "7O7rPU9Ui9UW",
    "outputId": "d9687a02-2e98-46f0-8858-9faca06265cc",
    "ExecuteTime": {
     "end_time": "2024-01-02T22:11:09.386257Z",
     "start_time": "2024-01-02T22:11:09.380655Z"
    }
   },
   "outputs": [],
   "source": [
    "from time import time\n",
    "\n",
    "eval_iters = 200\n",
    "\n",
    "def get_batch(split):\n",
    "    data = train_data if split == 'train' else val_data\n",
    "    ix = torch.randint(len(data) - block_size, (batch_size,))\n",
    "    x = torch.stack([data[i:i + block_size] for i in ix])\n",
    "    y = torch.stack([data[i + 1:i + block_size + 1] for i in ix])\n",
    "    x, y = x.to(device), y.to(device)\n",
    "\n",
    "    return x, y\n",
    "\n",
    "\n",
    "@torch.no_grad()\n",
    "def estimate_loss():\n",
    "    out = {}\n",
    "    model.eval()\n",
    "    for split in ['train', 'val']:\n",
    "        losses = torch.zeros(eval_iters)\n",
    "        for k in range(eval_iters):\n",
    "            X, Y = get_batch(split)\n",
    "            logits, _ = model(X)\n",
    "            loss = F.cross_entropy(logits.view(-1, vocab_size), Y.view(-1))\n",
    "            losses[k] = loss.item()\n",
    "        out[split] = losses.mean()\n",
    "    model.train()\n",
    "    return out"
   ]
  },
  {
   "cell_type": "code",
   "execution_count": 153,
   "metadata": {
    "collapsed": false,
    "ExecuteTime": {
     "end_time": "2024-01-02T22:11:11.936818Z",
     "start_time": "2024-01-02T22:11:11.933478Z"
    }
   },
   "outputs": [],
   "source": [
    "from utils import cur_dir\n",
    "\n",
    "save_path = cur_dir() + '/rnnmodel.pth'"
   ]
  },
  {
   "cell_type": "code",
   "execution_count": 178,
   "metadata": {
    "id": "IDJL6RZdkvtj",
    "ExecuteTime": {
     "end_time": "2024-01-02T22:45:16.292234Z",
     "start_time": "2024-01-02T22:40:08.858029Z"
    }
   },
   "outputs": [
    {
     "name": "stderr",
     "output_type": "stream",
     "text": [
      "  0%|          | 1/5000 [00:07<10:48:10,  7.78s/it]"
     ]
    },
    {
     "name": "stdout",
     "output_type": "stream",
     "text": [
      "step 0: train loss 2.5908, val loss 2.6202, elapsed: 7.7s\n"
     ]
    },
    {
     "name": "stderr",
     "output_type": "stream",
     "text": [
      " 10%|█         | 505/5000 [00:37<41:27,  1.81it/s] "
     ]
    },
    {
     "name": "stdout",
     "output_type": "stream",
     "text": [
      "step 500: train loss 2.5900, val loss 2.6193, elapsed: 37.4s\n"
     ]
    },
    {
     "name": "stderr",
     "output_type": "stream",
     "text": [
      " 20%|██        | 1003/5000 [01:06<49:29,  1.35it/s]"
     ]
    },
    {
     "name": "stdout",
     "output_type": "stream",
     "text": [
      "step 1000: train loss 2.5905, val loss 2.6204, elapsed: 66.9s\n"
     ]
    },
    {
     "name": "stderr",
     "output_type": "stream",
     "text": [
      " 30%|███       | 1504/5000 [01:37<36:57,  1.58it/s]"
     ]
    },
    {
     "name": "stdout",
     "output_type": "stream",
     "text": [
      "step 1500: train loss 2.5906, val loss 2.6181, elapsed: 97.6s\n"
     ]
    },
    {
     "name": "stderr",
     "output_type": "stream",
     "text": [
      " 40%|████      | 2002/5000 [02:08<44:20,  1.13it/s]"
     ]
    },
    {
     "name": "stdout",
     "output_type": "stream",
     "text": [
      "step 2000: train loss 2.5912, val loss 2.6189, elapsed: 128.6s\n"
     ]
    },
    {
     "name": "stderr",
     "output_type": "stream",
     "text": [
      " 50%|█████     | 2503/5000 [02:38<33:17,  1.25it/s]"
     ]
    },
    {
     "name": "stdout",
     "output_type": "stream",
     "text": [
      "step 2500: train loss 2.5904, val loss 2.6195, elapsed: 158.7s\n"
     ]
    },
    {
     "name": "stderr",
     "output_type": "stream",
     "text": [
      " 60%|██████    | 3004/5000 [03:08<17:41,  1.88it/s]"
     ]
    },
    {
     "name": "stdout",
     "output_type": "stream",
     "text": [
      "step 3000: train loss 2.5917, val loss 2.6204, elapsed: 188.1s\n"
     ]
    },
    {
     "name": "stderr",
     "output_type": "stream",
     "text": [
      " 70%|███████   | 3505/5000 [03:37<13:36,  1.83it/s]"
     ]
    },
    {
     "name": "stdout",
     "output_type": "stream",
     "text": [
      "step 3500: train loss 2.5889, val loss 2.6193, elapsed: 217.6s\n"
     ]
    },
    {
     "name": "stderr",
     "output_type": "stream",
     "text": [
      " 80%|████████  | 4003/5000 [04:07<12:34,  1.32it/s]"
     ]
    },
    {
     "name": "stdout",
     "output_type": "stream",
     "text": [
      "step 4000: train loss 2.5896, val loss 2.6206, elapsed: 247.1s\n"
     ]
    },
    {
     "name": "stderr",
     "output_type": "stream",
     "text": [
      " 90%|█████████ | 4504/5000 [04:37<04:39,  1.78it/s]"
     ]
    },
    {
     "name": "stdout",
     "output_type": "stream",
     "text": [
      "step 4500: train loss 2.5907, val loss 2.6196, elapsed: 276.9s\n"
     ]
    },
    {
     "name": "stderr",
     "output_type": "stream",
     "text": [
      "100%|██████████| 5000/5000 [05:07<00:00, 16.27it/s]"
     ]
    },
    {
     "name": "stdout",
     "output_type": "stream",
     "text": [
      "step 4999: train loss 2.5902, val loss 2.6191, elapsed: 307.3s\n"
     ]
    },
    {
     "name": "stderr",
     "output_type": "stream",
     "text": [
      "\n"
     ]
    }
   ],
   "source": [
    "from tqdm import tqdm\n",
    "\n",
    "optimizer = torch.optim.AdamW(model.parameters(), lr=learning_rate)\n",
    "\n",
    "max_iters = 5000\n",
    "eval_interval = 500\n",
    "store_losses = True\n",
    "\n",
    "t0 = time()\n",
    "train_losses = []\n",
    "val_losses = []\n",
    "for i in tqdm(range(max_iters)):\n",
    "    if store_losses and (i % eval_interval == 0 or i == max_iters - 1):\n",
    "        cur_loss = estimate_loss()\n",
    "        \n",
    "        train_loss = cur_loss['train']\n",
    "        val_loss = cur_loss['val']\n",
    "        train_losses.append(train_loss)\n",
    "        val_losses.append(val_loss)\n",
    "        print(f\"step {i}: train loss {train_loss:.4f}, val loss {val_loss:.4f}, elapsed: {time() - t0:.1f}s\")\n",
    "\n",
    "    xb, yb = get_batch('train')\n",
    "    logits, _ = model(xb)\n",
    "    loss = F.cross_entropy(logits.view(-1, vocab_size), yb.view(-1))\n",
    "\n",
    "    optimizer.zero_grad(set_to_none=True)\n",
    "    loss.backward()\n",
    "    optimizer.step()\n",
    "\n",
    "torch.save(model.state_dict(), save_path)"
   ]
  },
  {
   "cell_type": "markdown",
   "source": [
    "## Посмотрим на train и val cross-entropy losses"
   ],
   "metadata": {
    "collapsed": false
   }
  },
  {
   "cell_type": "code",
   "execution_count": 181,
   "outputs": [
    {
     "data": {
      "text/plain": "<Figure size 640x480 with 1 Axes>",
      "image/png": "[encoded data removed]"
     },
     "metadata": {},
     "output_type": "display_data"
    }
   ],
   "source": [
    "import matplotlib.pyplot as plt\n",
    "\n",
    "plt.plot(train_losses, 'g', label='train loss')\n",
    "plt.plot(val_losses, 'b', label='val loss')\n",
    "\n",
    "plt.xlabel(f'batches of {eval_interval} iterations')\n",
    "plt.ylabel('Cross Entropy Loss')\n",
    "\n",
    "plt.xticks(range(len(train_losses)), range(1, len(train_losses) + 1))\n",
    "\n",
    "plt.legend(loc='upper right')\n",
    "\n",
    "plt.show()"
   ],
   "metadata": {
    "collapsed": false,
    "ExecuteTime": {
     "end_time": "2024-01-02T22:48:51.638867Z",
     "start_time": "2024-01-02T22:48:51.548430Z"
    }
   }
  },
  {
   "cell_type": "code",
   "execution_count": 182,
   "metadata": {
    "collapsed": false,
    "ExecuteTime": {
     "end_time": "2024-01-02T22:48:53.961054Z",
     "start_time": "2024-01-02T22:48:53.955720Z"
    }
   },
   "outputs": [],
   "source": [
    "# model.load_state_dict(torch.load(save_path))"
   ]
  },
  {
   "cell_type": "code",
   "execution_count": 183,
   "outputs": [],
   "source": [
    "def generate(model, seed_text, tokens_cnt):\n",
    "    model.eval()\n",
    "\n",
    "    generated = seed_text.clone()\n",
    "    for _ in tqdm(range(tokens_cnt)):\n",
    "        logits, _ = model(generated)\n",
    "        last_token_logits = logits[:, -1, :]\n",
    "        probs = F.softmax(last_token_logits, dim=-1)\n",
    "        sampled_token = torch.multinomial(probs, 1)\n",
    "        generated = torch.cat((generated, sampled_token), dim=1)\n",
    "\n",
    "    return generated"
   ],
   "metadata": {
    "collapsed": false,
    "ExecuteTime": {
     "end_time": "2024-01-02T22:48:54.420750Z",
     "start_time": "2024-01-02T22:48:54.418100Z"
    }
   }
  },
  {
   "cell_type": "code",
   "execution_count": 184,
   "metadata": {
    "colab": {
     "base_uri": "https://localhost:8080/"
    },
    "id": "7mcrbyO_kV7B",
    "outputId": "6989bb0a-5bbe-4b6f-e78e-90c1dbe6a76d",
    "ExecuteTime": {
     "end_time": "2024-01-02T22:48:56.870848Z",
     "start_time": "2024-01-02T22:48:56.244371Z"
    }
   },
   "outputs": [
    {
     "name": "stdout",
     "output_type": "stream",
     "text": [
      "Seed text: О вы, которые любовью не горели\n"
     ]
    },
    {
     "name": "stderr",
     "output_type": "stream",
     "text": [
      "100%|██████████| 200/200 [00:00<00:00, 322.21it/s]"
     ]
    },
    {
     "name": "stdout",
     "output_type": "stream",
     "text": [
      "О вы, которые любовью не горелича коюбей\n",
      "Вскрашуде ух мовогой мфь, гленой.\n",
      "И повемой чугла; Тета нобобушу ст,\n",
      "Свиза пр,\n",
      "Нак. т позм шкрави — ем,\n",
      "Отедонотал;\n",
      "Им. Вст, бирее и?.\n",
      "Отицои о-такой эт прдогеци,\n",
      "Сря,\n",
      "Посьш,\n",
      "И орфодо стене \n"
     ]
    },
    {
     "name": "stderr",
     "output_type": "stream",
     "text": [
      "\n"
     ]
    }
   ],
   "source": [
    "seed_text = 'О вы, которые любовью не горели'\n",
    "print(f'Seed text: {seed_text}')\n",
    "\n",
    "context = torch.tensor(encode(seed_text), dtype=torch.long, device=device).unsqueeze(0)\n",
    "\n",
    "tokens_to_generate = 200\n",
    "generated = generate(model, context, tokens_to_generate)\n",
    "\n",
    "generated_text = decode(generated[0].tolist())\n",
    "\n",
    "print(generated_text)"
   ]
  },
  {
   "cell_type": "code",
   "execution_count": 31,
   "metadata": {
    "ExecuteTime": {
     "end_time": "2024-01-01T17:36:39.811532Z",
     "start_time": "2024-01-01T17:34:44.627189Z"
    },
    "collapsed": false
   },
   "outputs": [
    {
     "name": "stdout",
     "output_type": "stream",
     "text": [
      "Requirement already satisfied: setuptools in /Users/timoniche/PycharmProjects/dl/venv/lib/python3.9/site-packages (65.5.1)\r\n",
      "Collecting setuptools\r\n",
      "  Downloading setuptools-69.0.3-py3-none-any.whl.metadata (6.3 kB)\r\n",
      "Downloading setuptools-69.0.3-py3-none-any.whl (819 kB)\r\n",
      "\u001B[2K   \u001B[90m━━━━━━━━━━━━━━━━━━━━━━━━━━━━━━━━━━━━━━━━\u001B[0m \u001B[32m819.5/819.5 kB\u001B[0m \u001B[31m3.4 MB/s\u001B[0m eta \u001B[36m0:00:00\u001B[0ma \u001B[36m0:00:01\u001B[0m\r\n",
      "\u001B[?25hInstalling collected packages: setuptools\r\n",
      "  Attempting uninstall: setuptools\r\n",
      "    Found existing installation: setuptools 65.5.1\r\n",
      "    Uninstalling setuptools-65.5.1:\r\n",
      "      Successfully uninstalled setuptools-65.5.1\r\n",
      "Successfully installed setuptools-69.0.3\r\n",
      "Collecting lxml\r\n",
      "  Using cached lxml-5.0.0.zip (4.1 MB)\r\n",
      "  Preparing metadata (setup.py) ... \u001B[?25ldone\r\n",
      "\u001B[?25hBuilding wheels for collected packages: lxml\r\n",
      "  Building wheel for lxml (setup.py) ... \u001B[?25ldone\r\n",
      "\u001B[?25h  Created wheel for lxml: filename=lxml-5.0.0-cp39-cp39-macosx_10_9_universal2.whl size=3210317 sha256=9065d967a4a52801700ab9981e41fe0c731b4d89ee2614af093151253560344c\r\n",
      "  Stored in directory: /Users/timoniche/Library/Caches/pip/wheels/b3/f3/c8/7d32062bb4d205cfc564ff338613b965f852cfb428224a1e96\r\n",
      "Successfully built lxml\r\n",
      "Installing collected packages: lxml\r\n",
      "Successfully installed lxml-5.0.0\r\n"
     ]
    }
   ],
   "source": [
    "!pip install --upgrade pip\n",
    "!pip install --upgrade setuptools\n",
    "!pip install lxml\n",
    "\n",
    "!pip install sacrebleu"
   ]
  },
  {
   "cell_type": "code",
   "execution_count": 185,
   "metadata": {
    "collapsed": false,
    "ExecuteTime": {
     "end_time": "2024-01-02T22:49:11.758225Z",
     "start_time": "2024-01-02T22:49:11.753643Z"
    }
   },
   "outputs": [],
   "source": [
    "references = [\n",
    "    '''\n",
    "    Лагерь при Евфрате\n",
    "    Не пленяйся бранной славой,\n",
    "    О красавец молодой!\n",
    "    Не бросайся в бой кровавый\n",
    "    С карабахскою толпой!\n",
    "    Знаю, смерть тебя не встретит:\n",
    "    Азраил, среди мечей,\n",
    "    Красоту твою заметит —\n",
    "    И пощада будет ей!\n",
    "    Но боюсь: среди сражений\n",
    "    Ты утратишь навсегда\n",
    "    Скромность робкую движений,\n",
    "    Прелесть неги и стыда! \n",
    "    ''',\n",
    "    '''\n",
    "    О вы, которые любовью не горели,\n",
    "    Взгляните на нее — узнаете любовь.\n",
    "    О вы, которые уж сердцем охладели,\n",
    "    Взгляните на нее: полюбите вы вновь. \n",
    "    ''',\n",
    "    '''\n",
    "    Все кончено: меж нами связи нет.\n",
    "    В последний раз обняв твои колени,\n",
    "    Произносил я горестные пени.\n",
    "    Все кончено — я слышу твой ответ.\n",
    "    Обманывать себя не стану вновь,\n",
    "    Тебя тоской преследовать не буду,\n",
    "    Прошедшее, быть может, позабуду —\n",
    "    Не для меня сотворена любовь.\n",
    "    Ты молода: душа твоя прекрасна,\n",
    "    И многими любима будешь ты. \n",
    "    ''',\n",
    "]"
   ]
  },
  {
   "cell_type": "markdown",
   "source": [
    "## Попросим нагенерить из сидов, равных первому предложению"
   ],
   "metadata": {
    "collapsed": false
   }
  },
  {
   "cell_type": "code",
   "execution_count": 186,
   "outputs": [
    {
     "name": "stdout",
     "output_type": "stream",
     "text": [
      "Seed texts: \n",
      "['    Лагерь при Евфрате', '    О вы, которые любовью не горели,', '    Все кончено: меж нами связи нет.']\n"
     ]
    }
   ],
   "source": [
    "seeds = [ref.splitlines()[1] for ref in references]\n",
    "\n",
    "ref_lens = [len(ref) for ref in references]\n",
    "seed_lens = [len(seed) for seed in seeds]\n",
    "cnt_to_generate = [r_len - s_len for r_len, s_len in zip(ref_lens, seed_lens)]\n",
    "\n",
    "print('Seed texts: ')\n",
    "print(seeds)"
   ],
   "metadata": {
    "collapsed": false,
    "ExecuteTime": {
     "end_time": "2024-01-02T22:49:14.333206Z",
     "start_time": "2024-01-02T22:49:14.330246Z"
    }
   }
  },
  {
   "cell_type": "code",
   "execution_count": 187,
   "outputs": [
    {
     "name": "stderr",
     "output_type": "stream",
     "text": [
      "100%|██████████| 343/343 [00:00<00:00, 343.83it/s]\n"
     ]
    },
    {
     "name": "stdout",
     "output_type": "stream",
     "text": [
      "    Лагерь при Евфратестай и ститылаб т горилин. олыедодисо: чтой,\n",
      "Зи о м,\n",
      "Раст,\n",
      "Пой слставя!\n",
      "Плеча гой ны орх момосемнасешь,\n",
      "Грой,\n",
      "Нот;\n",
      "Коминодрдоног Рою взк бобв пртаноли зл,\n",
      "На?\n",
      "Всвиялиеснущазко т.\n",
      "Ужепось слатюбым\n",
      "Изи ся зав нитв жетрщене,\n",
      "И ще,\n",
      "Ней х чит,, истл?\n",
      "В ва нь,\n",
      "На,\n",
      "Вистами дома н,\n",
      "Те сказен, прерорк мест вихир мост:\n",
      "Прив в бмел ороильбя.\n",
      "И орисевец\n"
     ]
    },
    {
     "name": "stderr",
     "output_type": "stream",
     "text": [
      "100%|██████████| 126/126 [00:00<00:00, 449.03it/s]\n"
     ]
    },
    {
     "name": "stdout",
     "output_type": "stream",
     "text": [
      "    О вы, которые любовью не горели, ристсежевотаднаковсу икасенит,\n",
      "Обиры х,\n",
      "И нный к Крвь неньязавинния, бли онице бы. сь\n",
      "Гадца довицизм трера, вздинью,\n",
      "Иле о сн\n"
     ]
    },
    {
     "name": "stderr",
     "output_type": "stream",
     "text": [
      "100%|██████████| 331/331 [00:00<00:00, 466.46it/s]"
     ]
    },
    {
     "name": "stdout",
     "output_type": "stream",
     "text": [
      "    Все кончено: меж нами связи нет.\n",
      "Нешь, гдора\n",
      "Таставлою\n",
      "В N.\n",
      "В сесто\n",
      "И бкордвсьстирищенолан слни манищем ви\n",
      "Тосвать ст.\n",
      "Всн угою погдвяна,\n",
      "Вой, всад\n",
      "Катеря тиякр икане чав делю клуй ви,\n",
      "Куясстимины, нечиныхотолих белом,\n",
      "Оныстижерде чихв\n",
      "— бвуждны ви, — и нтс боятадцеравце, тоженыезадобя я:\n",
      "Зах пру зум Гдей стны срядвою\n",
      "Ноденая?\n",
      "Увопраже\n",
      "Срицам ломуки осира\n",
      "Встра\n"
     ]
    },
    {
     "name": "stderr",
     "output_type": "stream",
     "text": [
      "\n"
     ]
    }
   ],
   "source": [
    "generated_texts = []\n",
    "for i in range(len(seeds)):\n",
    "    context = torch.tensor(encode(seeds[i]), dtype=torch.long, device=device).unsqueeze(0)\n",
    "    tokens_to_generate = cnt_to_generate[i]\n",
    "    generated = generate(model, context, tokens_to_generate)\n",
    "    generated_text = decode(generated[0].tolist())\n",
    "    generated_texts.append(generated_text)\n",
    "\n",
    "    print(generated_text)"
   ],
   "metadata": {
    "collapsed": false,
    "ExecuteTime": {
     "end_time": "2024-01-02T22:49:17.905327Z",
     "start_time": "2024-01-02T22:49:15.907949Z"
    }
   }
  },
  {
   "cell_type": "code",
   "execution_count": 190,
   "metadata": {
    "collapsed": false,
    "ExecuteTime": {
     "end_time": "2024-01-02T22:51:46.135334Z",
     "start_time": "2024-01-02T22:51:46.122915Z"
    }
   },
   "outputs": [
    {
     "name": "stdout",
     "output_type": "stream",
     "text": [
      "chrF scores: \n",
      "[24.603619017659557, 33.3915931378405, 28.290093488073758]\n"
     ]
    }
   ],
   "source": [
    "from sacrebleu import sentence_chrf\n",
    "\n",
    "scores = [sentence_chrf(gen, references).score for gen in generated_texts]\n",
    "\n",
    "print('chrF scores: ')\n",
    "print(scores)"
   ]
  },
  {
   "cell_type": "markdown",
   "source": [
    "## Сравним chrF если бы генерили без совпадающего сида"
   ],
   "metadata": {
    "collapsed": false
   }
  },
  {
   "cell_type": "code",
   "execution_count": 191,
   "outputs": [
    {
     "name": "stderr",
     "output_type": "stream",
     "text": [
      "100%|██████████| 200/200 [00:00<00:00, 386.49it/s]"
     ]
    },
    {
     "name": "stdout",
     "output_type": "stream",
     "text": [
      "Generated text: \n",
      " обы з-твстьготралаго см, уныелору мн со «Душедних ги твазр.\n",
      "И Лизот? Онене и лгоейц! побило, т нь та вепалогонсвламетамоном,\n",
      "И ризеедонодадрекре стонохане к сей пржера факреримален! с норототаль лча и\n",
      "chrF scores: \n",
      "[24.603619017659557, 33.3915931378405, 28.290093488073758]\n"
     ]
    },
    {
     "name": "stderr",
     "output_type": "stream",
     "text": [
      "\n"
     ]
    }
   ],
   "source": [
    "seed_text = ' '\n",
    "\n",
    "context = torch.tensor(encode(seed_text), dtype=torch.long, device=device).unsqueeze(0)\n",
    "\n",
    "tokens_to_generate = 200\n",
    "generated = generate(model, context, tokens_to_generate)\n",
    "\n",
    "generated_text = decode(generated[0].tolist())\n",
    "\n",
    "print('Generated text: ')\n",
    "print(generated_text)\n",
    "\n",
    "scores = [sentence_chrf(gen, references).score for gen in generated_texts]\n",
    "\n",
    "print('chrF scores: ')\n",
    "print(scores)\n",
    "\n"
   ],
   "metadata": {
    "collapsed": false,
    "ExecuteTime": {
     "end_time": "2024-01-02T22:51:50.152187Z",
     "start_time": "2024-01-02T22:51:49.626426Z"
    }
   }
  },
  {
   "cell_type": "markdown",
   "source": [
    "## Попробуем модель с GRU"
   ],
   "metadata": {
    "collapsed": false
   }
  },
  {
   "cell_type": "code",
   "execution_count": null,
   "outputs": [],
   "source": [],
   "metadata": {
    "collapsed": false
   }
  }
 ],
 "metadata": {
  "accelerator": "GPU",
  "colab": {
   "gpuType": "T4",
   "provenance": []
  },
  "kernelspec": {
   "display_name": "Python 3 (ipykernel)",
   "language": "python",
   "name": "python3"
  },
  "language_info": {
   "codemirror_mode": {
    "name": "ipython",
    "version": 3
   },
   "file_extension": ".py",
   "mimetype": "text/x-python",
   "name": "python",
   "nbconvert_exporter": "python",
   "pygments_lexer": "ipython3",
   "version": "3.9.6"
  },
  "widgets": {
   "application/vnd.jupyter.widget-state+json": {
    "20a820c0a80d48c283f49cfeccf4082d": {
     "model_module": "@jupyter-widgets/controls",
     "model_module_version": "1.5.0",
     "model_name": "DescriptionStyleModel",
     "state": {
      "_model_module": "@jupyter-widgets/controls",
      "_model_module_version": "1.5.0",
      "_model_name": "DescriptionStyleModel",
      "_view_count": null,
      "_view_module": "@jupyter-widgets/base",
      "_view_module_version": "1.2.0",
      "_view_name": "StyleView",
      "description_width": ""
     }
    },
    "22aaac62cc0e495789863a2eaeb9dc1a": {
     "model_module": "@jupyter-widgets/controls",
     "model_module_version": "1.5.0",
     "model_name": "ProgressStyleModel",
     "state": {
      "_model_module": "@jupyter-widgets/controls",
      "_model_module_version": "1.5.0",
      "_model_name": "ProgressStyleModel",
      "_view_count": null,
      "_view_module": "@jupyter-widgets/base",
      "_view_module_version": "1.2.0",
      "_view_name": "StyleView",
      "bar_color": null,
      "description_width": ""
     }
    },
    "22f14704aa884b39866499441b346b85": {
     "model_module": "@jupyter-widgets/controls",
     "model_module_version": "1.5.0",
     "model_name": "DescriptionStyleModel",
     "state": {
      "_model_module": "@jupyter-widgets/controls",
      "_model_module_version": "1.5.0",
      "_model_name": "DescriptionStyleModel",
      "_view_count": null,
      "_view_module": "@jupyter-widgets/base",
      "_view_module_version": "1.2.0",
      "_view_name": "StyleView",
      "description_width": ""
     }
    },
    "2ac14c2fc295432da77f1fd7357bd2f9": {
     "model_module": "@jupyter-widgets/base",
     "model_module_version": "1.2.0",
     "model_name": "LayoutModel",
     "state": {
      "_model_module": "@jupyter-widgets/base",
      "_model_module_version": "1.2.0",
      "_model_name": "LayoutModel",
      "_view_count": null,
      "_view_module": "@jupyter-widgets/base",
      "_view_module_version": "1.2.0",
      "_view_name": "LayoutView",
      "align_content": null,
      "align_items": null,
      "align_self": null,
      "border": null,
      "bottom": null,
      "display": null,
      "flex": null,
      "flex_flow": null,
      "grid_area": null,
      "grid_auto_columns": null,
      "grid_auto_flow": null,
      "grid_auto_rows": null,
      "grid_column": null,
      "grid_gap": null,
      "grid_row": null,
      "grid_template_areas": null,
      "grid_template_columns": null,
      "grid_template_rows": null,
      "height": null,
      "justify_content": null,
      "justify_items": null,
      "left": null,
      "margin": null,
      "max_height": null,
      "max_width": null,
      "min_height": null,
      "min_width": null,
      "object_fit": null,
      "object_position": null,
      "order": null,
      "overflow": null,
      "overflow_x": null,
      "overflow_y": null,
      "padding": null,
      "right": null,
      "top": null,
      "visibility": null,
      "width": null
     }
    },
    "2b08641b23af4472b5ff87cb8aa59b48": {
     "model_module": "@jupyter-widgets/controls",
     "model_module_version": "1.5.0",
     "model_name": "HTMLModel",
     "state": {
      "_dom_classes": [],
      "_model_module": "@jupyter-widgets/controls",
      "_model_module_version": "1.5.0",
      "_model_name": "HTMLModel",
      "_view_count": null,
      "_view_module": "@jupyter-widgets/controls",
      "_view_module_version": "1.5.0",
      "_view_name": "HTMLView",
      "description": "",
      "description_tooltip": null,
      "layout": "IPY_MODEL_6dc0525e3046460f936bed927133abc3",
      "placeholder": "​",
      "style": "IPY_MODEL_e62152d59a1842ec8c43a6a4a96b6d0d",
      "value": "Downloading data: 100%"
     }
    },
    "3ac44ff76e724698b911b8a02da1033d": {
     "model_module": "@jupyter-widgets/base",
     "model_module_version": "1.2.0",
     "model_name": "LayoutModel",
     "state": {
      "_model_module": "@jupyter-widgets/base",
      "_model_module_version": "1.2.0",
      "_model_name": "LayoutModel",
      "_view_count": null,
      "_view_module": "@jupyter-widgets/base",
      "_view_module_version": "1.2.0",
      "_view_name": "LayoutView",
      "align_content": null,
      "align_items": null,
      "align_self": null,
      "border": null,
      "bottom": null,
      "display": null,
      "flex": null,
      "flex_flow": null,
      "grid_area": null,
      "grid_auto_columns": null,
      "grid_auto_flow": null,
      "grid_auto_rows": null,
      "grid_column": null,
      "grid_gap": null,
      "grid_row": null,
      "grid_template_areas": null,
      "grid_template_columns": null,
      "grid_template_rows": null,
      "height": null,
      "justify_content": null,
      "justify_items": null,
      "left": null,
      "margin": null,
      "max_height": null,
      "max_width": null,
      "min_height": null,
      "min_width": null,
      "object_fit": null,
      "object_position": null,
      "order": null,
      "overflow": null,
      "overflow_x": null,
      "overflow_y": null,
      "padding": null,
      "right": null,
      "top": null,
      "visibility": null,
      "width": null
     }
    },
    "4467b7f82adf4834878a5c94d9b720f3": {
     "model_module": "@jupyter-widgets/controls",
     "model_module_version": "1.5.0",
     "model_name": "HBoxModel",
     "state": {
      "_dom_classes": [],
      "_model_module": "@jupyter-widgets/controls",
      "_model_module_version": "1.5.0",
      "_model_name": "HBoxModel",
      "_view_count": null,
      "_view_module": "@jupyter-widgets/controls",
      "_view_module_version": "1.5.0",
      "_view_name": "HBoxView",
      "box_style": "",
      "children": [
       "IPY_MODEL_fb0a12fe4aa540058b4d34cc669a1a9f",
       "IPY_MODEL_7dd0c1f9eacb4497845135cb334f0de4",
       "IPY_MODEL_fd2631fec99a45528d144bcee330216c"
      ],
      "layout": "IPY_MODEL_2ac14c2fc295432da77f1fd7357bd2f9"
     }
    },
    "48fbd169387b4a91956a63b2e28685fb": {
     "model_module": "@jupyter-widgets/controls",
     "model_module_version": "1.5.0",
     "model_name": "DescriptionStyleModel",
     "state": {
      "_model_module": "@jupyter-widgets/controls",
      "_model_module_version": "1.5.0",
      "_model_name": "DescriptionStyleModel",
      "_view_count": null,
      "_view_module": "@jupyter-widgets/base",
      "_view_module_version": "1.2.0",
      "_view_name": "StyleView",
      "description_width": ""
     }
    },
    "4bbddf493cd54204bbf46c2458ef93cb": {
     "model_module": "@jupyter-widgets/controls",
     "model_module_version": "1.5.0",
     "model_name": "ProgressStyleModel",
     "state": {
      "_model_module": "@jupyter-widgets/controls",
      "_model_module_version": "1.5.0",
      "_model_name": "ProgressStyleModel",
      "_view_count": null,
      "_view_module": "@jupyter-widgets/base",
      "_view_module_version": "1.2.0",
      "_view_name": "StyleView",
      "bar_color": null,
      "description_width": ""
     }
    },
    "6b0042b1779a4116882ca02ed36c0823": {
     "model_module": "@jupyter-widgets/controls",
     "model_module_version": "1.5.0",
     "model_name": "HTMLModel",
     "state": {
      "_dom_classes": [],
      "_model_module": "@jupyter-widgets/controls",
      "_model_module_version": "1.5.0",
      "_model_name": "HTMLModel",
      "_view_count": null,
      "_view_module": "@jupyter-widgets/controls",
      "_view_module_version": "1.5.0",
      "_view_name": "HTMLView",
      "description": "",
      "description_tooltip": null,
      "layout": "IPY_MODEL_f36cfdc5c1894d4cabcb93ce2cf6186b",
      "placeholder": "​",
      "style": "IPY_MODEL_76aaee0377b2414592b3d489e67d853a",
      "value": " 1974/0 [00:00&lt;00:00, 54378.46 examples/s]"
     }
    },
    "6b4d54d4fd0b457eae8990336fa36afc": {
     "model_module": "@jupyter-widgets/controls",
     "model_module_version": "1.5.0",
     "model_name": "DescriptionStyleModel",
     "state": {
      "_model_module": "@jupyter-widgets/controls",
      "_model_module_version": "1.5.0",
      "_model_name": "DescriptionStyleModel",
      "_view_count": null,
      "_view_module": "@jupyter-widgets/base",
      "_view_module_version": "1.2.0",
      "_view_name": "StyleView",
      "description_width": ""
     }
    },
    "6dc0525e3046460f936bed927133abc3": {
     "model_module": "@jupyter-widgets/base",
     "model_module_version": "1.2.0",
     "model_name": "LayoutModel",
     "state": {
      "_model_module": "@jupyter-widgets/base",
      "_model_module_version": "1.2.0",
      "_model_name": "LayoutModel",
      "_view_count": null,
      "_view_module": "@jupyter-widgets/base",
      "_view_module_version": "1.2.0",
      "_view_name": "LayoutView",
      "align_content": null,
      "align_items": null,
      "align_self": null,
      "border": null,
      "bottom": null,
      "display": null,
      "flex": null,
      "flex_flow": null,
      "grid_area": null,
      "grid_auto_columns": null,
      "grid_auto_flow": null,
      "grid_auto_rows": null,
      "grid_column": null,
      "grid_gap": null,
      "grid_row": null,
      "grid_template_areas": null,
      "grid_template_columns": null,
      "grid_template_rows": null,
      "height": null,
      "justify_content": null,
      "justify_items": null,
      "left": null,
      "margin": null,
      "max_height": null,
      "max_width": null,
      "min_height": null,
      "min_width": null,
      "object_fit": null,
      "object_position": null,
      "order": null,
      "overflow": null,
      "overflow_x": null,
      "overflow_y": null,
      "padding": null,
      "right": null,
      "top": null,
      "visibility": null,
      "width": null
     }
    },
    "74f13c3e3a214ec69c375fd97c944830": {
     "model_module": "@jupyter-widgets/base",
     "model_module_version": "1.2.0",
     "model_name": "LayoutModel",
     "state": {
      "_model_module": "@jupyter-widgets/base",
      "_model_module_version": "1.2.0",
      "_model_name": "LayoutModel",
      "_view_count": null,
      "_view_module": "@jupyter-widgets/base",
      "_view_module_version": "1.2.0",
      "_view_name": "LayoutView",
      "align_content": null,
      "align_items": null,
      "align_self": null,
      "border": null,
      "bottom": null,
      "display": null,
      "flex": null,
      "flex_flow": null,
      "grid_area": null,
      "grid_auto_columns": null,
      "grid_auto_flow": null,
      "grid_auto_rows": null,
      "grid_column": null,
      "grid_gap": null,
      "grid_row": null,
      "grid_template_areas": null,
      "grid_template_columns": null,
      "grid_template_rows": null,
      "height": null,
      "justify_content": null,
      "justify_items": null,
      "left": null,
      "margin": null,
      "max_height": null,
      "max_width": null,
      "min_height": null,
      "min_width": null,
      "object_fit": null,
      "object_position": null,
      "order": null,
      "overflow": null,
      "overflow_x": null,
      "overflow_y": null,
      "padding": null,
      "right": null,
      "top": null,
      "visibility": null,
      "width": null
     }
    },
    "76aaee0377b2414592b3d489e67d853a": {
     "model_module": "@jupyter-widgets/controls",
     "model_module_version": "1.5.0",
     "model_name": "DescriptionStyleModel",
     "state": {
      "_model_module": "@jupyter-widgets/controls",
      "_model_module_version": "1.5.0",
      "_model_name": "DescriptionStyleModel",
      "_view_count": null,
      "_view_module": "@jupyter-widgets/base",
      "_view_module_version": "1.2.0",
      "_view_name": "StyleView",
      "description_width": ""
     }
    },
    "7a3b245ec19b427984612f8c79cc722f": {
     "model_module": "@jupyter-widgets/controls",
     "model_module_version": "1.5.0",
     "model_name": "DescriptionStyleModel",
     "state": {
      "_model_module": "@jupyter-widgets/controls",
      "_model_module_version": "1.5.0",
      "_model_name": "DescriptionStyleModel",
      "_view_count": null,
      "_view_module": "@jupyter-widgets/base",
      "_view_module_version": "1.2.0",
      "_view_name": "StyleView",
      "description_width": ""
     }
    },
    "7dd0c1f9eacb4497845135cb334f0de4": {
     "model_module": "@jupyter-widgets/controls",
     "model_module_version": "1.5.0",
     "model_name": "FloatProgressModel",
     "state": {
      "_dom_classes": [],
      "_model_module": "@jupyter-widgets/controls",
      "_model_module_version": "1.5.0",
      "_model_name": "FloatProgressModel",
      "_view_count": null,
      "_view_module": "@jupyter-widgets/controls",
      "_view_module_version": "1.5.0",
      "_view_name": "ProgressView",
      "bar_style": "success",
      "description": "",
      "description_tooltip": null,
      "layout": "IPY_MODEL_e459bad3923b47b794187ad301e29463",
      "max": 86506,
      "min": 0,
      "orientation": "horizontal",
      "style": "IPY_MODEL_f730bef7ddb24ab2b97d98c0935fbb3c",
      "value": 86506
     }
    },
    "874781c485334c228e26136fd787ad9c": {
     "model_module": "@jupyter-widgets/controls",
     "model_module_version": "1.5.0",
     "model_name": "FloatProgressModel",
     "state": {
      "_dom_classes": [],
      "_model_module": "@jupyter-widgets/controls",
      "_model_module_version": "1.5.0",
      "_model_name": "FloatProgressModel",
      "_view_count": null,
      "_view_module": "@jupyter-widgets/controls",
      "_view_module_version": "1.5.0",
      "_view_name": "ProgressView",
      "bar_style": "success",
      "description": "",
      "description_tooltip": null,
      "layout": "IPY_MODEL_d05317a6a8d64cd7ad71af9a429bc713",
      "max": 1,
      "min": 0,
      "orientation": "horizontal",
      "style": "IPY_MODEL_22aaac62cc0e495789863a2eaeb9dc1a",
      "value": 1
     }
    },
    "896baa0a246649ad97ced4aa66bd68ec": {
     "model_module": "@jupyter-widgets/controls",
     "model_module_version": "1.5.0",
     "model_name": "HTMLModel",
     "state": {
      "_dom_classes": [],
      "_model_module": "@jupyter-widgets/controls",
      "_model_module_version": "1.5.0",
      "_model_name": "HTMLModel",
      "_view_count": null,
      "_view_module": "@jupyter-widgets/controls",
      "_view_module_version": "1.5.0",
      "_view_name": "HTMLView",
      "description": "",
      "description_tooltip": null,
      "layout": "IPY_MODEL_74f13c3e3a214ec69c375fd97c944830",
      "placeholder": "​",
      "style": "IPY_MODEL_20a820c0a80d48c283f49cfeccf4082d",
      "value": "Generating test split: "
     }
    },
    "8b039eec9c8b4ff390a31b88d829b304": {
     "model_module": "@jupyter-widgets/controls",
     "model_module_version": "1.5.0",
     "model_name": "ProgressStyleModel",
     "state": {
      "_model_module": "@jupyter-widgets/controls",
      "_model_module_version": "1.5.0",
      "_model_name": "ProgressStyleModel",
      "_view_count": null,
      "_view_module": "@jupyter-widgets/base",
      "_view_module_version": "1.2.0",
      "_view_name": "StyleView",
      "bar_color": null,
      "description_width": ""
     }
    },
    "8d0922c12390456e9dc9bb7cc4a2e5a8": {
     "model_module": "@jupyter-widgets/controls",
     "model_module_version": "1.5.0",
     "model_name": "HTMLModel",
     "state": {
      "_dom_classes": [],
      "_model_module": "@jupyter-widgets/controls",
      "_model_module_version": "1.5.0",
      "_model_name": "HTMLModel",
      "_view_count": null,
      "_view_module": "@jupyter-widgets/controls",
      "_view_module_version": "1.5.0",
      "_view_name": "HTMLView",
      "description": "",
      "description_tooltip": null,
      "layout": "IPY_MODEL_90c3e2ab3575418ba8c2391596a15503",
      "placeholder": "​",
      "style": "IPY_MODEL_22f14704aa884b39866499441b346b85",
      "value": " 19785/0 [00:00&lt;00:00, 185859.27 examples/s]"
     }
    },
    "90c3e2ab3575418ba8c2391596a15503": {
     "model_module": "@jupyter-widgets/base",
     "model_module_version": "1.2.0",
     "model_name": "LayoutModel",
     "state": {
      "_model_module": "@jupyter-widgets/base",
      "_model_module_version": "1.2.0",
      "_model_name": "LayoutModel",
      "_view_count": null,
      "_view_module": "@jupyter-widgets/base",
      "_view_module_version": "1.2.0",
      "_view_name": "LayoutView",
      "align_content": null,
      "align_items": null,
      "align_self": null,
      "border": null,
      "bottom": null,
      "display": null,
      "flex": null,
      "flex_flow": null,
      "grid_area": null,
      "grid_auto_columns": null,
      "grid_auto_flow": null,
      "grid_auto_rows": null,
      "grid_column": null,
      "grid_gap": null,
      "grid_row": null,
      "grid_template_areas": null,
      "grid_template_columns": null,
      "grid_template_rows": null,
      "height": null,
      "justify_content": null,
      "justify_items": null,
      "left": null,
      "margin": null,
      "max_height": null,
      "max_width": null,
      "min_height": null,
      "min_width": null,
      "object_fit": null,
      "object_position": null,
      "order": null,
      "overflow": null,
      "overflow_x": null,
      "overflow_y": null,
      "padding": null,
      "right": null,
      "top": null,
      "visibility": null,
      "width": null
     }
    },
    "912584110a2f4e8391915053859e9d69": {
     "model_module": "@jupyter-widgets/base",
     "model_module_version": "1.2.0",
     "model_name": "LayoutModel",
     "state": {
      "_model_module": "@jupyter-widgets/base",
      "_model_module_version": "1.2.0",
      "_model_name": "LayoutModel",
      "_view_count": null,
      "_view_module": "@jupyter-widgets/base",
      "_view_module_version": "1.2.0",
      "_view_name": "LayoutView",
      "align_content": null,
      "align_items": null,
      "align_self": null,
      "border": null,
      "bottom": null,
      "display": null,
      "flex": null,
      "flex_flow": null,
      "grid_area": null,
      "grid_auto_columns": null,
      "grid_auto_flow": null,
      "grid_auto_rows": null,
      "grid_column": null,
      "grid_gap": null,
      "grid_row": null,
      "grid_template_areas": null,
      "grid_template_columns": null,
      "grid_template_rows": null,
      "height": null,
      "justify_content": null,
      "justify_items": null,
      "left": null,
      "margin": null,
      "max_height": null,
      "max_width": null,
      "min_height": null,
      "min_width": null,
      "object_fit": null,
      "object_position": null,
      "order": null,
      "overflow": null,
      "overflow_x": null,
      "overflow_y": null,
      "padding": null,
      "right": null,
      "top": null,
      "visibility": null,
      "width": null
     }
    },
    "a852e8b97a9d4da9872cdbd7db71cc30": {
     "model_module": "@jupyter-widgets/base",
     "model_module_version": "1.2.0",
     "model_name": "LayoutModel",
     "state": {
      "_model_module": "@jupyter-widgets/base",
      "_model_module_version": "1.2.0",
      "_model_name": "LayoutModel",
      "_view_count": null,
      "_view_module": "@jupyter-widgets/base",
      "_view_module_version": "1.2.0",
      "_view_name": "LayoutView",
      "align_content": null,
      "align_items": null,
      "align_self": null,
      "border": null,
      "bottom": null,
      "display": null,
      "flex": null,
      "flex_flow": null,
      "grid_area": null,
      "grid_auto_columns": null,
      "grid_auto_flow": null,
      "grid_auto_rows": null,
      "grid_column": null,
      "grid_gap": null,
      "grid_row": null,
      "grid_template_areas": null,
      "grid_template_columns": null,
      "grid_template_rows": null,
      "height": null,
      "justify_content": null,
      "justify_items": null,
      "left": null,
      "margin": null,
      "max_height": null,
      "max_width": null,
      "min_height": null,
      "min_width": null,
      "object_fit": null,
      "object_position": null,
      "order": null,
      "overflow": null,
      "overflow_x": null,
      "overflow_y": null,
      "padding": null,
      "right": null,
      "top": null,
      "visibility": null,
      "width": null
     }
    },
    "a902fb4679a84b868fa8465f26b41ffc": {
     "model_module": "@jupyter-widgets/base",
     "model_module_version": "1.2.0",
     "model_name": "LayoutModel",
     "state": {
      "_model_module": "@jupyter-widgets/base",
      "_model_module_version": "1.2.0",
      "_model_name": "LayoutModel",
      "_view_count": null,
      "_view_module": "@jupyter-widgets/base",
      "_view_module_version": "1.2.0",
      "_view_name": "LayoutView",
      "align_content": null,
      "align_items": null,
      "align_self": null,
      "border": null,
      "bottom": null,
      "display": null,
      "flex": null,
      "flex_flow": null,
      "grid_area": null,
      "grid_auto_columns": null,
      "grid_auto_flow": null,
      "grid_auto_rows": null,
      "grid_column": null,
      "grid_gap": null,
      "grid_row": null,
      "grid_template_areas": null,
      "grid_template_columns": null,
      "grid_template_rows": null,
      "height": null,
      "justify_content": null,
      "justify_items": null,
      "left": null,
      "margin": null,
      "max_height": null,
      "max_width": null,
      "min_height": null,
      "min_width": null,
      "object_fit": null,
      "object_position": null,
      "order": null,
      "overflow": null,
      "overflow_x": null,
      "overflow_y": null,
      "padding": null,
      "right": null,
      "top": null,
      "visibility": null,
      "width": null
     }
    },
    "ad22fa7be9254a6798847ac6a9552afa": {
     "model_module": "@jupyter-widgets/controls",
     "model_module_version": "1.5.0",
     "model_name": "FloatProgressModel",
     "state": {
      "_dom_classes": [],
      "_model_module": "@jupyter-widgets/controls",
      "_model_module_version": "1.5.0",
      "_model_name": "FloatProgressModel",
      "_view_count": null,
      "_view_module": "@jupyter-widgets/controls",
      "_view_module_version": "1.5.0",
      "_view_name": "ProgressView",
      "bar_style": "success",
      "description": "",
      "description_tooltip": null,
      "layout": "IPY_MODEL_efc24dade3254a85b8b2a5ff98370750",
      "max": 1,
      "min": 0,
      "orientation": "horizontal",
      "style": "IPY_MODEL_8b039eec9c8b4ff390a31b88d829b304",
      "value": 1
     }
    },
    "c26f7f8711a244ee8898958d5979c39c": {
     "model_module": "@jupyter-widgets/controls",
     "model_module_version": "1.5.0",
     "model_name": "HBoxModel",
     "state": {
      "_dom_classes": [],
      "_model_module": "@jupyter-widgets/controls",
      "_model_module_version": "1.5.0",
      "_model_name": "HBoxModel",
      "_view_count": null,
      "_view_module": "@jupyter-widgets/controls",
      "_view_module_version": "1.5.0",
      "_view_name": "HBoxView",
      "box_style": "",
      "children": [
       "IPY_MODEL_f67219a7705248d0a781c8eb933e11d2",
       "IPY_MODEL_ad22fa7be9254a6798847ac6a9552afa",
       "IPY_MODEL_8d0922c12390456e9dc9bb7cc4a2e5a8"
      ],
      "layout": "IPY_MODEL_d1b4607db5334e05990a21deb0d55ffc"
     }
    },
    "c6779a75a1e34cbd84ab702e60184bc4": {
     "model_module": "@jupyter-widgets/controls",
     "model_module_version": "1.5.0",
     "model_name": "FloatProgressModel",
     "state": {
      "_dom_classes": [],
      "_model_module": "@jupyter-widgets/controls",
      "_model_module_version": "1.5.0",
      "_model_name": "FloatProgressModel",
      "_view_count": null,
      "_view_module": "@jupyter-widgets/controls",
      "_view_module_version": "1.5.0",
      "_view_name": "ProgressView",
      "bar_style": "success",
      "description": "",
      "description_tooltip": null,
      "layout": "IPY_MODEL_912584110a2f4e8391915053859e9d69",
      "max": 911553,
      "min": 0,
      "orientation": "horizontal",
      "style": "IPY_MODEL_4bbddf493cd54204bbf46c2458ef93cb",
      "value": 911553
     }
    },
    "c693e2d718e541a88767ee6582befa22": {
     "model_module": "@jupyter-widgets/controls",
     "model_module_version": "1.5.0",
     "model_name": "DescriptionStyleModel",
     "state": {
      "_model_module": "@jupyter-widgets/controls",
      "_model_module_version": "1.5.0",
      "_model_name": "DescriptionStyleModel",
      "_view_count": null,
      "_view_module": "@jupyter-widgets/base",
      "_view_module_version": "1.2.0",
      "_view_name": "StyleView",
      "description_width": ""
     }
    },
    "c803440d26d344a2b41befd6d3064336": {
     "model_module": "@jupyter-widgets/controls",
     "model_module_version": "1.5.0",
     "model_name": "HTMLModel",
     "state": {
      "_dom_classes": [],
      "_model_module": "@jupyter-widgets/controls",
      "_model_module_version": "1.5.0",
      "_model_name": "HTMLModel",
      "_view_count": null,
      "_view_module": "@jupyter-widgets/controls",
      "_view_module_version": "1.5.0",
      "_view_name": "HTMLView",
      "description": "",
      "description_tooltip": null,
      "layout": "IPY_MODEL_a852e8b97a9d4da9872cdbd7db71cc30",
      "placeholder": "​",
      "style": "IPY_MODEL_c693e2d718e541a88767ee6582befa22",
      "value": " 912k/912k [00:00&lt;00:00, 4.97MB/s]"
     }
    },
    "d05317a6a8d64cd7ad71af9a429bc713": {
     "model_module": "@jupyter-widgets/base",
     "model_module_version": "1.2.0",
     "model_name": "LayoutModel",
     "state": {
      "_model_module": "@jupyter-widgets/base",
      "_model_module_version": "1.2.0",
      "_model_name": "LayoutModel",
      "_view_count": null,
      "_view_module": "@jupyter-widgets/base",
      "_view_module_version": "1.2.0",
      "_view_name": "LayoutView",
      "align_content": null,
      "align_items": null,
      "align_self": null,
      "border": null,
      "bottom": null,
      "display": null,
      "flex": null,
      "flex_flow": null,
      "grid_area": null,
      "grid_auto_columns": null,
      "grid_auto_flow": null,
      "grid_auto_rows": null,
      "grid_column": null,
      "grid_gap": null,
      "grid_row": null,
      "grid_template_areas": null,
      "grid_template_columns": null,
      "grid_template_rows": null,
      "height": null,
      "justify_content": null,
      "justify_items": null,
      "left": null,
      "margin": null,
      "max_height": null,
      "max_width": null,
      "min_height": null,
      "min_width": null,
      "object_fit": null,
      "object_position": null,
      "order": null,
      "overflow": null,
      "overflow_x": null,
      "overflow_y": null,
      "padding": null,
      "right": null,
      "top": null,
      "visibility": null,
      "width": "20px"
     }
    },
    "d0e513c8b48648f387d6b1bb1d4632ff": {
     "model_module": "@jupyter-widgets/base",
     "model_module_version": "1.2.0",
     "model_name": "LayoutModel",
     "state": {
      "_model_module": "@jupyter-widgets/base",
      "_model_module_version": "1.2.0",
      "_model_name": "LayoutModel",
      "_view_count": null,
      "_view_module": "@jupyter-widgets/base",
      "_view_module_version": "1.2.0",
      "_view_name": "LayoutView",
      "align_content": null,
      "align_items": null,
      "align_self": null,
      "border": null,
      "bottom": null,
      "display": null,
      "flex": null,
      "flex_flow": null,
      "grid_area": null,
      "grid_auto_columns": null,
      "grid_auto_flow": null,
      "grid_auto_rows": null,
      "grid_column": null,
      "grid_gap": null,
      "grid_row": null,
      "grid_template_areas": null,
      "grid_template_columns": null,
      "grid_template_rows": null,
      "height": null,
      "justify_content": null,
      "justify_items": null,
      "left": null,
      "margin": null,
      "max_height": null,
      "max_width": null,
      "min_height": null,
      "min_width": null,
      "object_fit": null,
      "object_position": null,
      "order": null,
      "overflow": null,
      "overflow_x": null,
      "overflow_y": null,
      "padding": null,
      "right": null,
      "top": null,
      "visibility": null,
      "width": null
     }
    },
    "d1b4607db5334e05990a21deb0d55ffc": {
     "model_module": "@jupyter-widgets/base",
     "model_module_version": "1.2.0",
     "model_name": "LayoutModel",
     "state": {
      "_model_module": "@jupyter-widgets/base",
      "_model_module_version": "1.2.0",
      "_model_name": "LayoutModel",
      "_view_count": null,
      "_view_module": "@jupyter-widgets/base",
      "_view_module_version": "1.2.0",
      "_view_name": "LayoutView",
      "align_content": null,
      "align_items": null,
      "align_self": null,
      "border": null,
      "bottom": null,
      "display": null,
      "flex": null,
      "flex_flow": null,
      "grid_area": null,
      "grid_auto_columns": null,
      "grid_auto_flow": null,
      "grid_auto_rows": null,
      "grid_column": null,
      "grid_gap": null,
      "grid_row": null,
      "grid_template_areas": null,
      "grid_template_columns": null,
      "grid_template_rows": null,
      "height": null,
      "justify_content": null,
      "justify_items": null,
      "left": null,
      "margin": null,
      "max_height": null,
      "max_width": null,
      "min_height": null,
      "min_width": null,
      "object_fit": null,
      "object_position": null,
      "order": null,
      "overflow": null,
      "overflow_x": null,
      "overflow_y": null,
      "padding": null,
      "right": null,
      "top": null,
      "visibility": null,
      "width": null
     }
    },
    "df340e251886475c998dcba8469cffa3": {
     "model_module": "@jupyter-widgets/base",
     "model_module_version": "1.2.0",
     "model_name": "LayoutModel",
     "state": {
      "_model_module": "@jupyter-widgets/base",
      "_model_module_version": "1.2.0",
      "_model_name": "LayoutModel",
      "_view_count": null,
      "_view_module": "@jupyter-widgets/base",
      "_view_module_version": "1.2.0",
      "_view_name": "LayoutView",
      "align_content": null,
      "align_items": null,
      "align_self": null,
      "border": null,
      "bottom": null,
      "display": null,
      "flex": null,
      "flex_flow": null,
      "grid_area": null,
      "grid_auto_columns": null,
      "grid_auto_flow": null,
      "grid_auto_rows": null,
      "grid_column": null,
      "grid_gap": null,
      "grid_row": null,
      "grid_template_areas": null,
      "grid_template_columns": null,
      "grid_template_rows": null,
      "height": null,
      "justify_content": null,
      "justify_items": null,
      "left": null,
      "margin": null,
      "max_height": null,
      "max_width": null,
      "min_height": null,
      "min_width": null,
      "object_fit": null,
      "object_position": null,
      "order": null,
      "overflow": null,
      "overflow_x": null,
      "overflow_y": null,
      "padding": null,
      "right": null,
      "top": null,
      "visibility": null,
      "width": null
     }
    },
    "e459bad3923b47b794187ad301e29463": {
     "model_module": "@jupyter-widgets/base",
     "model_module_version": "1.2.0",
     "model_name": "LayoutModel",
     "state": {
      "_model_module": "@jupyter-widgets/base",
      "_model_module_version": "1.2.0",
      "_model_name": "LayoutModel",
      "_view_count": null,
      "_view_module": "@jupyter-widgets/base",
      "_view_module_version": "1.2.0",
      "_view_name": "LayoutView",
      "align_content": null,
      "align_items": null,
      "align_self": null,
      "border": null,
      "bottom": null,
      "display": null,
      "flex": null,
      "flex_flow": null,
      "grid_area": null,
      "grid_auto_columns": null,
      "grid_auto_flow": null,
      "grid_auto_rows": null,
      "grid_column": null,
      "grid_gap": null,
      "grid_row": null,
      "grid_template_areas": null,
      "grid_template_columns": null,
      "grid_template_rows": null,
      "height": null,
      "justify_content": null,
      "justify_items": null,
      "left": null,
      "margin": null,
      "max_height": null,
      "max_width": null,
      "min_height": null,
      "min_width": null,
      "object_fit": null,
      "object_position": null,
      "order": null,
      "overflow": null,
      "overflow_x": null,
      "overflow_y": null,
      "padding": null,
      "right": null,
      "top": null,
      "visibility": null,
      "width": null
     }
    },
    "e62152d59a1842ec8c43a6a4a96b6d0d": {
     "model_module": "@jupyter-widgets/controls",
     "model_module_version": "1.5.0",
     "model_name": "DescriptionStyleModel",
     "state": {
      "_model_module": "@jupyter-widgets/controls",
      "_model_module_version": "1.5.0",
      "_model_name": "DescriptionStyleModel",
      "_view_count": null,
      "_view_module": "@jupyter-widgets/base",
      "_view_module_version": "1.2.0",
      "_view_name": "StyleView",
      "description_width": ""
     }
    },
    "eed91bb5bfb3429492312c2ed49c1ae3": {
     "model_module": "@jupyter-widgets/controls",
     "model_module_version": "1.5.0",
     "model_name": "HBoxModel",
     "state": {
      "_dom_classes": [],
      "_model_module": "@jupyter-widgets/controls",
      "_model_module_version": "1.5.0",
      "_model_name": "HBoxModel",
      "_view_count": null,
      "_view_module": "@jupyter-widgets/controls",
      "_view_module_version": "1.5.0",
      "_view_name": "HBoxView",
      "box_style": "",
      "children": [
       "IPY_MODEL_896baa0a246649ad97ced4aa66bd68ec",
       "IPY_MODEL_874781c485334c228e26136fd787ad9c",
       "IPY_MODEL_6b0042b1779a4116882ca02ed36c0823"
      ],
      "layout": "IPY_MODEL_a902fb4679a84b868fa8465f26b41ffc"
     }
    },
    "efc24dade3254a85b8b2a5ff98370750": {
     "model_module": "@jupyter-widgets/base",
     "model_module_version": "1.2.0",
     "model_name": "LayoutModel",
     "state": {
      "_model_module": "@jupyter-widgets/base",
      "_model_module_version": "1.2.0",
      "_model_name": "LayoutModel",
      "_view_count": null,
      "_view_module": "@jupyter-widgets/base",
      "_view_module_version": "1.2.0",
      "_view_name": "LayoutView",
      "align_content": null,
      "align_items": null,
      "align_self": null,
      "border": null,
      "bottom": null,
      "display": null,
      "flex": null,
      "flex_flow": null,
      "grid_area": null,
      "grid_auto_columns": null,
      "grid_auto_flow": null,
      "grid_auto_rows": null,
      "grid_column": null,
      "grid_gap": null,
      "grid_row": null,
      "grid_template_areas": null,
      "grid_template_columns": null,
      "grid_template_rows": null,
      "height": null,
      "justify_content": null,
      "justify_items": null,
      "left": null,
      "margin": null,
      "max_height": null,
      "max_width": null,
      "min_height": null,
      "min_width": null,
      "object_fit": null,
      "object_position": null,
      "order": null,
      "overflow": null,
      "overflow_x": null,
      "overflow_y": null,
      "padding": null,
      "right": null,
      "top": null,
      "visibility": null,
      "width": "20px"
     }
    },
    "f36cfdc5c1894d4cabcb93ce2cf6186b": {
     "model_module": "@jupyter-widgets/base",
     "model_module_version": "1.2.0",
     "model_name": "LayoutModel",
     "state": {
      "_model_module": "@jupyter-widgets/base",
      "_model_module_version": "1.2.0",
      "_model_name": "LayoutModel",
      "_view_count": null,
      "_view_module": "@jupyter-widgets/base",
      "_view_module_version": "1.2.0",
      "_view_name": "LayoutView",
      "align_content": null,
      "align_items": null,
      "align_self": null,
      "border": null,
      "bottom": null,
      "display": null,
      "flex": null,
      "flex_flow": null,
      "grid_area": null,
      "grid_auto_columns": null,
      "grid_auto_flow": null,
      "grid_auto_rows": null,
      "grid_column": null,
      "grid_gap": null,
      "grid_row": null,
      "grid_template_areas": null,
      "grid_template_columns": null,
      "grid_template_rows": null,
      "height": null,
      "justify_content": null,
      "justify_items": null,
      "left": null,
      "margin": null,
      "max_height": null,
      "max_width": null,
      "min_height": null,
      "min_width": null,
      "object_fit": null,
      "object_position": null,
      "order": null,
      "overflow": null,
      "overflow_x": null,
      "overflow_y": null,
      "padding": null,
      "right": null,
      "top": null,
      "visibility": null,
      "width": null
     }
    },
    "f67219a7705248d0a781c8eb933e11d2": {
     "model_module": "@jupyter-widgets/controls",
     "model_module_version": "1.5.0",
     "model_name": "HTMLModel",
     "state": {
      "_dom_classes": [],
      "_model_module": "@jupyter-widgets/controls",
      "_model_module_version": "1.5.0",
      "_model_name": "HTMLModel",
      "_view_count": null,
      "_view_module": "@jupyter-widgets/controls",
      "_view_module_version": "1.5.0",
      "_view_name": "HTMLView",
      "description": "",
      "description_tooltip": null,
      "layout": "IPY_MODEL_3ac44ff76e724698b911b8a02da1033d",
      "placeholder": "​",
      "style": "IPY_MODEL_6b4d54d4fd0b457eae8990336fa36afc",
      "value": "Generating train split: "
     }
    },
    "f730bef7ddb24ab2b97d98c0935fbb3c": {
     "model_module": "@jupyter-widgets/controls",
     "model_module_version": "1.5.0",
     "model_name": "ProgressStyleModel",
     "state": {
      "_model_module": "@jupyter-widgets/controls",
      "_model_module_version": "1.5.0",
      "_model_name": "ProgressStyleModel",
      "_view_count": null,
      "_view_module": "@jupyter-widgets/base",
      "_view_module_version": "1.2.0",
      "_view_name": "StyleView",
      "bar_color": null,
      "description_width": ""
     }
    },
    "f9071dc212b6491ab8c92ae0d5d242b0": {
     "model_module": "@jupyter-widgets/base",
     "model_module_version": "1.2.0",
     "model_name": "LayoutModel",
     "state": {
      "_model_module": "@jupyter-widgets/base",
      "_model_module_version": "1.2.0",
      "_model_name": "LayoutModel",
      "_view_count": null,
      "_view_module": "@jupyter-widgets/base",
      "_view_module_version": "1.2.0",
      "_view_name": "LayoutView",
      "align_content": null,
      "align_items": null,
      "align_self": null,
      "border": null,
      "bottom": null,
      "display": null,
      "flex": null,
      "flex_flow": null,
      "grid_area": null,
      "grid_auto_columns": null,
      "grid_auto_flow": null,
      "grid_auto_rows": null,
      "grid_column": null,
      "grid_gap": null,
      "grid_row": null,
      "grid_template_areas": null,
      "grid_template_columns": null,
      "grid_template_rows": null,
      "height": null,
      "justify_content": null,
      "justify_items": null,
      "left": null,
      "margin": null,
      "max_height": null,
      "max_width": null,
      "min_height": null,
      "min_width": null,
      "object_fit": null,
      "object_position": null,
      "order": null,
      "overflow": null,
      "overflow_x": null,
      "overflow_y": null,
      "padding": null,
      "right": null,
      "top": null,
      "visibility": null,
      "width": null
     }
    },
    "f9fd51d270004bebb94c6cd66877dc24": {
     "model_module": "@jupyter-widgets/controls",
     "model_module_version": "1.5.0",
     "model_name": "HBoxModel",
     "state": {
      "_dom_classes": [],
      "_model_module": "@jupyter-widgets/controls",
      "_model_module_version": "1.5.0",
      "_model_name": "HBoxModel",
      "_view_count": null,
      "_view_module": "@jupyter-widgets/controls",
      "_view_module_version": "1.5.0",
      "_view_name": "HBoxView",
      "box_style": "",
      "children": [
       "IPY_MODEL_2b08641b23af4472b5ff87cb8aa59b48",
       "IPY_MODEL_c6779a75a1e34cbd84ab702e60184bc4",
       "IPY_MODEL_c803440d26d344a2b41befd6d3064336"
      ],
      "layout": "IPY_MODEL_df340e251886475c998dcba8469cffa3"
     }
    },
    "fb0a12fe4aa540058b4d34cc669a1a9f": {
     "model_module": "@jupyter-widgets/controls",
     "model_module_version": "1.5.0",
     "model_name": "HTMLModel",
     "state": {
      "_dom_classes": [],
      "_model_module": "@jupyter-widgets/controls",
      "_model_module_version": "1.5.0",
      "_model_name": "HTMLModel",
      "_view_count": null,
      "_view_module": "@jupyter-widgets/controls",
      "_view_module_version": "1.5.0",
      "_view_name": "HTMLView",
      "description": "",
      "description_tooltip": null,
      "layout": "IPY_MODEL_d0e513c8b48648f387d6b1bb1d4632ff",
      "placeholder": "​",
      "style": "IPY_MODEL_48fbd169387b4a91956a63b2e28685fb",
      "value": "Downloading data: 100%"
     }
    },
    "fd2631fec99a45528d144bcee330216c": {
     "model_module": "@jupyter-widgets/controls",
     "model_module_version": "1.5.0",
     "model_name": "HTMLModel",
     "state": {
      "_dom_classes": [],
      "_model_module": "@jupyter-widgets/controls",
      "_model_module_version": "1.5.0",
      "_model_name": "HTMLModel",
      "_view_count": null,
      "_view_module": "@jupyter-widgets/controls",
      "_view_module_version": "1.5.0",
      "_view_name": "HTMLView",
      "description": "",
      "description_tooltip": null,
      "layout": "IPY_MODEL_f9071dc212b6491ab8c92ae0d5d242b0",
      "placeholder": "​",
      "style": "IPY_MODEL_7a3b245ec19b427984612f8c79cc722f",
      "value": " 86.5k/86.5k [00:00&lt;00:00, 798kB/s]"
     }
    }
   }
  }
 },
 "nbformat": 4,
 "nbformat_minor": 4
}
